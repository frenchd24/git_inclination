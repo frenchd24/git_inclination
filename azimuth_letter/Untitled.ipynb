{
 "cells": [
  {
   "cell_type": "code",
   "execution_count": 9,
   "metadata": {},
   "outputs": [
    {
     "name": "stdout",
     "output_type": "stream",
     "text": [
      "True\n",
      "True\n",
      "True\n",
      "True\n",
      "False\n",
      "a:  [1, 2, 3, 4]\n"
     ]
    }
   ],
   "source": [
    "from utilities import *\n",
    "\n",
    "def is_null(x):\n",
    "    # return True if x is any of -99, '-99', -99., '-99.', , -99.99, '-99.99', 'x', or blank\n",
    "    return_val = False\n",
    "    \n",
    "    x = str(x).strip()\n",
    "    if isNumber(x):\n",
    "        if x == -99 or x == -99.99 or str(x) == '-99' or str(x) =='-99.99' or x == -99. or x == '-99.':\n",
    "            return_val = True\n",
    "    else:\n",
    "        return_val = True\n",
    "    \n",
    "    return return_val\n",
    "\n",
    "print is_null('-99')\n",
    "print is_null('-99 ')\n",
    "print is_null('-99.99 ')\n",
    "print is_null('-99  ')\n",
    "print is_null('-99.999')\n",
    "\n",
    "a = [1,2,3,4,5]\n",
    "for x in a:\n",
    "    if x == 5:\n",
    "        a.pop(a.index(x))\n",
    "        \n",
    "print 'a: ',a\n"
   ]
  },
  {
   "cell_type": "code",
   "execution_count": null,
   "metadata": {},
   "outputs": [],
   "source": []
  }
 ],
 "metadata": {
  "kernelspec": {
   "display_name": "Python 2",
   "language": "python",
   "name": "python2"
  },
  "language_info": {
   "codemirror_mode": {
    "name": "ipython",
    "version": 2
   },
   "file_extension": ".py",
   "mimetype": "text/x-python",
   "name": "python",
   "nbconvert_exporter": "python",
   "pygments_lexer": "ipython2",
   "version": "2.7.14"
  }
 },
 "nbformat": 4,
 "nbformat_minor": 2
}
